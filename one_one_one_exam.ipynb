{
 "cells": [
  {
   "cell_type": "code",
   "execution_count": null,
   "id": "af7dd810",
   "metadata": {
    "vscode": {
     "languageId": "plaintext"
    }
   },
   "outputs": [],
   "source": [
    "print('noyan bahadir')\n",
    "\n",
    "\n",
    "\n",
    "\n",
    "my_dog=('barut')\n",
    " print(my_dog)\n",
    "\n",
    "print(type(my_dog))\n",
    "\n",
    "\n",
    "\n",
    "mylist = ('pineapple' , 'apple' , 'banana')\n",
    "print(mylist)\n",
    "\n",
    "\n",
    "\n",
    "\n",
    "student1 = {\n",
    "'name':'adilet',\n",
    "'index_number': '1231234'\n",
    "}\n",
    "\n",
    "\n",
    "\n",
    "class Student: \n",
    "   def __init__(self, name, index_number):\n",
    "        self.name = name                    \n",
    "       self.index_number = index_number\n",
    "\n",
    "\n",
    "\n",
    "\n",
    "\n",
    "\n",
    "\n",
    "\n",
    "\n",
    "\n",
    "\n",
    "\n",
    "\n",
    "\n",
    "\n",
    "\n",
    "\n",
    "\n"
   ]
  }
 ],
 "metadata": {
  "language_info": {
   "name": "python"
  }
 },
 "nbformat": 4,
 "nbformat_minor": 5
}
